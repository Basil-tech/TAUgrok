{
 "cells": [
  {
   "cell_type": "code",
   "execution_count": null,
   "metadata": {},
   "outputs": [],
   "source": [
    "import sklearn.decomposition as skd\n",
    "import matplotlib.pyplot as plt\n",
    "import pandas as pd\n",
    "import torch\n",
    "from pathlib import Path\n",
    "\n",
    "# set plt resolution\n",
    "plt.rcParams['figure.dpi'] = 600"
   ]
  },
  {
   "cell_type": "code",
   "execution_count": null,
   "metadata": {},
   "outputs": [],
   "source": [
    "\n",
    "lr = 0.0001\n",
    "seed = 42\n",
    "optim_steps = 100000\n",
    "model_epoch = 10000\n",
    "\n",
    "artifacts_path = Path(f\"lr_{lr}_seed_{seed}_optim_steps_{optim_steps}\")\n",
    "model_metrics = pd.read_csv(artifacts_path/'model_metrics.csv')\n",
    "model_weigts = torch.load(artifacts_path/f\"model_epoch_{model_epoch}.pt\", weights_only=True)"
   ]
  },
  {
   "cell_type": "code",
   "execution_count": null,
   "metadata": {},
   "outputs": [],
   "source": [
    "# using slice indexer, to smooth the plot a bit\n",
    "fig, ax = plt.subplots(1, 2, figsize=(12, 4), squeeze=False)\n",
    "subsampler = model_metrics.index.slice_indexer(0, 100000, 20)\n",
    "model_metrics.iloc[subsampler].plot(\n",
    "    x='opt_step', \n",
    "    y=['train_loss', 'val_loss'], \n",
    "    title='Train Loss', \n",
    "    logx=True, \n",
    "    ax=ax[0, 0], \n",
    "    grid=True, \n",
    "    legend=True, \n",
    "    xlabel='Optimization Steps', \n",
    "    ylabel='Loss'\n",
    ")\n",
    "ax[0, 0].set_title('Train vs Validation Loss')\n",
    "model_metrics.iloc[subsampler].plot(\n",
    "    x='opt_step', \n",
    "    y=['train_acc', 'val_acc'], \n",
    "    title='Train Loss', \n",
    "    logx=True,\n",
    "    ax=ax[0, 1],\n",
    "    grid=True,\n",
    "    legend=True,\n",
    "    xlabel='Optimization Steps',\n",
    "    ylabel='Accuracy'\n",
    ")\n",
    "ax[0, 1].set_title('Train vs Validation Accuracy')"
   ]
  },
  {
   "cell_type": "code",
   "execution_count": null,
   "metadata": {},
   "outputs": [],
   "source": [
    "prediction_layer_weights = model_weigts['prediction.weight']\n",
    "pca = skd.PCA(n_components=2)\n",
    "pca.fit(prediction_layer_weights.numpy(force=True))"
   ]
  },
  {
   "cell_type": "code",
   "execution_count": null,
   "metadata": {},
   "outputs": [],
   "source": [
    "fig = plt.figure(figsize=(4, 4))\n",
    "plt.scatter(pca.components_[0], pca.components_[1], c='r', marker='.')"
   ]
  },
  {
   "cell_type": "code",
   "execution_count": null,
   "metadata": {},
   "outputs": [],
   "source": []
  }
 ],
 "metadata": {
  "kernelspec": {
   "display_name": ".venv",
   "language": "python",
   "name": "python3"
  },
  "language_info": {
   "codemirror_mode": {
    "name": "ipython",
    "version": 3
   },
   "file_extension": ".py",
   "mimetype": "text/x-python",
   "name": "python",
   "nbconvert_exporter": "python",
   "pygments_lexer": "ipython3",
   "version": "3.12.3"
  }
 },
 "nbformat": 4,
 "nbformat_minor": 2
}
