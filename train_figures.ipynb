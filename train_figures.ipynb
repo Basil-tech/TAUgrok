{
 "cells": [
  {
   "cell_type": "code",
   "execution_count": null,
   "metadata": {},
   "outputs": [],
   "source": [
    "import matplotlib.pyplot as plt\n",
    "import pandas as pd\n",
    "import torch\n",
    "from pathlib import Path\n",
    "\n",
    "# set plt resolution\n",
    "plt.rcParams['figure.dpi'] = 800"
   ]
  },
  {
   "cell_type": "code",
   "execution_count": null,
   "metadata": {},
   "outputs": [],
   "source": [
    "operation = 'div'\n",
    "lr = 0.0001\n",
    "seed = 42\n",
    "optim_steps = 100000\n",
    "model_epoch = 10000\n",
    "\n",
    "artifacts_path = Path(f\"{operation}_lr_{lr}_seed_{seed}_optim_steps_{optim_steps}\")\n",
    "model_metrics = pd.read_csv(artifacts_path/'model_metrics.csv')\n",
    "model_weigts = torch.load(artifacts_path/f\"model_epoch_{model_epoch}.pt\", weights_only=True)"
   ]
  },
  {
   "cell_type": "code",
   "execution_count": null,
   "metadata": {},
   "outputs": [],
   "source": [
    "# using slice indexer, to smooth the plot a bit\n",
    "fig, ax = plt.subplots(1, 2, figsize=(12, 4), squeeze=False)\n",
    "subsampler = model_metrics.index.slice_indexer(0, 100000, 20)\n",
    "model_metrics.iloc[subsampler].plot(\n",
    "    x='opt_step', \n",
    "    y=['train_loss', 'val_loss'], \n",
    "    title='Train Loss', \n",
    "    logx=True, \n",
    "    ax=ax[0, 0], \n",
    "    grid=True, \n",
    "    legend=True, \n",
    "    xlabel='Optimization Steps', \n",
    "    ylabel='Loss'\n",
    ")\n",
    "ax[0, 0].set_title('Train vs Validation Loss')\n",
    "model_metrics.iloc[subsampler].plot(\n",
    "    x='opt_step', \n",
    "    y=['train_acc', 'val_acc'], \n",
    "    title='Train Loss', \n",
    "    logx=True,\n",
    "    ax=ax[0, 1],\n",
    "    grid=True,\n",
    "    legend=True,\n",
    "    xlabel='Optimization Steps',\n",
    "    ylabel='Accuracy'\n",
    ")\n",
    "ax[0, 1].set_title('Train vs Validation Accuracy')"
   ]
  }
 ],
 "metadata": {
  "kernelspec": {
   "display_name": ".venv",
   "language": "python",
   "name": "python3"
  },
  "language_info": {
   "codemirror_mode": {
    "name": "ipython",
    "version": 3
   },
   "file_extension": ".py",
   "mimetype": "text/x-python",
   "name": "python",
   "nbconvert_exporter": "python",
   "pygments_lexer": "ipython3",
   "version": "3.12.3"
  }
 },
 "nbformat": 4,
 "nbformat_minor": 2
}
