{
 "cells": [
  {
   "cell_type": "code",
   "execution_count": null,
   "metadata": {},
   "outputs": [],
   "source": [
    "import matplotlib.pyplot as plt\n",
    "import pandas as pd\n",
    "import numpy as np\n",
    "import torch\n",
    "import consts\n",
    "from data import Tokenizer\n",
    "from pathlib import Path\n",
    "from sklearn.manifold import TSNE\n",
    "\n",
    "# set plt resolution\n",
    "plt.rcParams['figure.dpi'] = 800"
   ]
  },
  {
   "cell_type": "code",
   "execution_count": null,
   "metadata": {},
   "outputs": [],
   "source": [
    "operation = 'add'\n",
    "lr = 0.0001\n",
    "seed = 42\n",
    "optim_steps = 100000\n",
    "model_epoch = 10000\n",
    "\n",
    "artifacts_path = Path(f\"{operation}_lr_{lr}_seed_{seed}_optim_steps_{optim_steps}\")\n",
    "model_metrics = pd.read_csv(artifacts_path/'model_metrics.csv')\n",
    "model_weigts = torch.load(artifacts_path/f\"model_epoch_{model_epoch}.pt\", weights_only=True)"
   ]
  },
  {
   "cell_type": "code",
   "execution_count": null,
   "metadata": {},
   "outputs": [],
   "source": [
    "# removing from the TSNE indices of tokens that are not numbers or not used\n",
    "tokenizer = Tokenizer()\n",
    "indices_to_remove = tokenizer.encode(consts.SPECIAL_CHARS)\n",
    "\n",
    "# The last token is also not used since the op is mod 97\n",
    "indices_to_remove = [indices_to_remove[0] - 1] + indices_to_remove"
   ]
  },
  {
   "cell_type": "code",
   "execution_count": null,
   "metadata": {},
   "outputs": [],
   "source": [
    "prediction_layer_weights = model_weigts['prediction.weight'].numpy(force=True)\n",
    "weights_no_special = np.delete(prediction_layer_weights, indices_to_remove, axis=0)"
   ]
  },
  {
   "cell_type": "code",
   "execution_count": null,
   "metadata": {},
   "outputs": [],
   "source": [
    "tsne = TSNE(n_components=2, init='pca', random_state=0, perplexity=60)\n",
    "tsne_weights = tsne.fit_transform(weights_no_special)\n",
    "\n",
    "colors = plt.cm.viridis(np.linspace(0, 1, weights_no_special.shape[0]))\n",
    "\n",
    "plt.figure(figsize=(8, 8))\n",
    "plt.scatter(tsne_weights[:, 0], tsne_weights[:, 1], color=colors)\n",
    "\n",
    "# add the number of the neuron to the plot\n",
    "for i, txt in enumerate(range(weights_no_special.shape[0])):\n",
    "    plt.annotate(txt, (tsne_weights[i, 0], tsne_weights[i, 1]), fontsize=6)\n",
    "\n",
    "# special effects in 3, 6, 9, 12, ...\n",
    "shift = 12\n",
    "\n",
    "connections = [(i, (i + shift) % weights_no_special.shape[0]) for i in range(0, weights_no_special.shape[0])]\n",
    "\n",
    "# add lines between indices with diff of 8\n",
    "for i, j in connections:\n",
    "    plt.plot([tsne_weights[i, 0], tsne_weights[j, 0]], [tsne_weights[i, 1], tsne_weights[j, 1]], color='black', alpha=0.3)\n",
    "\n",
    "plt.title('TSNE of Prediction Layer Weights')"
   ]
  },
  {
   "cell_type": "code",
   "execution_count": null,
   "metadata": {},
   "outputs": [],
   "source": [
    "# plotting the effect for different shift up-to 16\n",
    "fig, ax = plt.subplots(nrows=4, ncols=4, figsize=(14, 14), sharex=True, sharey=True)\n",
    "\n",
    "for i in range(1, 17):\n",
    "    _ax = ax[(i - 1)//4, (i - 1)%4]\n",
    "    _ax.scatter(tsne_weights[:, 0], tsne_weights[:, 1], color=colors, s=1)\n",
    "\n",
    "    connections = [(t, (t + i) % weights_no_special.shape[0]) for t in range(0, weights_no_special.shape[0])]\n",
    "\n",
    "    # add lines between indices with diff of 8\n",
    "    for j, k in connections:\n",
    "        _ax.plot([tsne_weights[j, 0], tsne_weights[k, 0]], [tsne_weights[j, 1], tsne_weights[k, 1]], color='black', alpha=0.3, linewidth=0.5)\n",
    "\n",
    "    _ax.set_title(f'Shift of {i}')"
   ]
  },
  {
   "cell_type": "code",
   "execution_count": null,
   "metadata": {},
   "outputs": [],
   "source": []
  },
  {
   "cell_type": "code",
   "execution_count": null,
   "metadata": {},
   "outputs": [],
   "source": []
  }
 ],
 "metadata": {
  "kernelspec": {
   "display_name": ".venv",
   "language": "python",
   "name": "python3"
  },
  "language_info": {
   "codemirror_mode": {
    "name": "ipython",
    "version": 3
   },
   "file_extension": ".py",
   "mimetype": "text/x-python",
   "name": "python",
   "nbconvert_exporter": "python",
   "pygments_lexer": "ipython3",
   "version": "3.12.3"
  }
 },
 "nbformat": 4,
 "nbformat_minor": 2
}
